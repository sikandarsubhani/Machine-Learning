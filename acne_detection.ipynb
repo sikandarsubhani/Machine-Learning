{
  "nbformat": 4,
  "nbformat_minor": 0,
  "metadata": {
    "colab": {
      "provenance": [],
      "authorship_tag": "ABX9TyPd9eJKz5nS7IGmpamiB20X",
      "include_colab_link": true
    },
    "kernelspec": {
      "name": "python3",
      "display_name": "Python 3"
    },
    "language_info": {
      "name": "python"
    }
  },
  "cells": [
    {
      "cell_type": "markdown",
      "metadata": {
        "id": "view-in-github",
        "colab_type": "text"
      },
      "source": [
        "<a href=\"https://colab.research.google.com/github/sikandarsubhani/Machine-Learning/blob/main/acne_detection.ipynb\" target=\"_parent\"><img src=\"https://colab.research.google.com/assets/colab-badge.svg\" alt=\"Open In Colab\"/></a>"
      ]
    },
    {
      "cell_type": "code",
      "source": [
        "import os\n",
        "import numpy as np\n",
        "from tensorflow.keras.preprocessing.image import ImageDataGenerator\n",
        "from tensorflow.keras.models import Sequential\n",
        "from tensorflow.keras.layers import Conv2D, MaxPooling2D\n",
        "from tensorflow.keras.layers import Activation, Dropout, Flatten, Dense\n",
        "from tensorflow.keras.optimizers import Adam"
      ],
      "metadata": {
        "id": "I7pEd34oPlC2"
      },
      "execution_count": 31,
      "outputs": []
    },
    {
      "cell_type": "code",
      "source": [
        "# Define constants and paths\n",
        "data_dir =\"/content/train\"\n",
        "img_width, img_height = 150, 150\n",
        "input_shape = (img_width, img_height, 3)\n",
        "batch_size = 32\n",
        "epochs = 20\n",
        "num_classes = 1  # Only one class (acne)\n"
      ],
      "metadata": {
        "id": "4dZeHFLYPsA_"
      },
      "execution_count": 32,
      "outputs": []
    },
    {
      "cell_type": "code",
      "source": [
        "# Create an Image Data Generator to load and augment your data\n",
        "datagen = ImageDataGenerator(\n",
        "    rescale=1.0 / 255.0,\n",
        "    rotation_range=40,\n",
        "    width_shift_range=0.2,\n",
        "    height_shift_range=0.2,\n",
        "    shear_range=0.2,\n",
        "    zoom_range=0.2,\n",
        "    horizontal_flip=True,\n",
        "    fill_mode='nearest'\n",
        ")"
      ],
      "metadata": {
        "id": "mvAbnMIEPv4Q"
      },
      "execution_count": 33,
      "outputs": []
    },
    {
      "cell_type": "code",
      "source": [
        "# Load the data with labels (target data)\n",
        "train_generator = datagen.flow_from_directory(\n",
        "    data_dir,\n",
        "    target_size=(img_width, img_height),\n",
        "    batch_size=batch_size,\n",
        "    class_mode='binary',  # Set to 'binary' for binary classification\n",
        "    shuffle=True,\n",
        "    seed=42,  # Set a seed for reproducibility\n",
        ")"
      ],
      "metadata": {
        "colab": {
          "base_uri": "https://localhost:8080/"
        },
        "id": "qXV0HGt0P1xd",
        "outputId": "0c91df8e-8ca4-4847-c97e-ecb284872cc9"
      },
      "execution_count": 34,
      "outputs": [
        {
          "output_type": "stream",
          "name": "stdout",
          "text": [
            "Found 373 images belonging to 1 classes.\n"
          ]
        }
      ]
    },
    {
      "cell_type": "code",
      "source": [
        "# Create a simple CNN model\n",
        "model = Sequential()\n",
        "model.add(Conv2D(32, (3, 3), input_shape=input_shape))\n",
        "model.add(Activation('relu'))\n",
        "model.add(MaxPooling2D(pool_size=(2, 2)))\n",
        "\n",
        "model.add(Conv2D(64, (3, 3)))\n",
        "model.add(Activation('relu'))\n",
        "model.add(MaxPooling2D(pool_size=(2, 2)))\n",
        "\n",
        "model.add(Flatten())\n",
        "model.add(Dense(64))\n",
        "model.add(Activation('relu'))\n",
        "model.add(Dropout(0.5))\n",
        "model.add(Dense(num_classes))\n",
        "model.add(Activation('sigmoid'))  # Use sigmoid activation for binary classification"
      ],
      "metadata": {
        "id": "lbH3tgE1QTcF"
      },
      "execution_count": 35,
      "outputs": []
    },
    {
      "cell_type": "code",
      "source": [
        "# Compile the model\n",
        "model.compile(loss='binary_crossentropy',\n",
        "              optimizer=Adam(learning_rate=0.0001),\n",
        "              metrics=['accuracy'])"
      ],
      "metadata": {
        "id": "dNARNUSKQXlT"
      },
      "execution_count": 36,
      "outputs": []
    },
    {
      "cell_type": "code",
      "source": [
        "# Train the model\n",
        "model.fit(train_generator,\n",
        "          epochs=epochs,\n",
        "          steps_per_epoch=train_generator.samples // batch_size)"
      ],
      "metadata": {
        "colab": {
          "base_uri": "https://localhost:8080/"
        },
        "id": "rfO5hokEQaYS",
        "outputId": "121dea58-557f-49b8-c2a7-991ffe799a6e"
      },
      "execution_count": 37,
      "outputs": [
        {
          "output_type": "stream",
          "name": "stdout",
          "text": [
            "Epoch 1/20\n",
            "11/11 [==============================] - 15s 1s/step - loss: 0.1024 - accuracy: 0.9091\n",
            "Epoch 2/20\n",
            "11/11 [==============================] - 13s 1s/step - loss: 9.9114e-05 - accuracy: 1.0000\n",
            "Epoch 3/20\n",
            "11/11 [==============================] - 13s 1s/step - loss: 2.8802e-05 - accuracy: 1.0000\n",
            "Epoch 4/20\n",
            "11/11 [==============================] - 13s 1s/step - loss: 7.2643e-06 - accuracy: 1.0000\n",
            "Epoch 5/20\n",
            "11/11 [==============================] - 13s 1s/step - loss: 5.7020e-06 - accuracy: 1.0000\n",
            "Epoch 6/20\n",
            "11/11 [==============================] - 13s 1s/step - loss: 2.3981e-06 - accuracy: 1.0000\n",
            "Epoch 7/20\n",
            "11/11 [==============================] - 13s 1s/step - loss: 5.9567e-06 - accuracy: 1.0000\n",
            "Epoch 8/20\n",
            "11/11 [==============================] - 13s 1s/step - loss: 4.3047e-06 - accuracy: 1.0000\n",
            "Epoch 9/20\n",
            "11/11 [==============================] - 13s 1s/step - loss: 4.2971e-06 - accuracy: 1.0000\n",
            "Epoch 10/20\n",
            "11/11 [==============================] - 13s 1s/step - loss: 1.6329e-06 - accuracy: 1.0000\n",
            "Epoch 11/20\n",
            "11/11 [==============================] - 13s 1s/step - loss: 2.3142e-06 - accuracy: 1.0000\n",
            "Epoch 12/20\n",
            "11/11 [==============================] - 13s 1s/step - loss: 4.3497e-06 - accuracy: 1.0000\n",
            "Epoch 13/20\n",
            "11/11 [==============================] - 13s 1s/step - loss: 4.7756e-06 - accuracy: 1.0000\n",
            "Epoch 14/20\n",
            "11/11 [==============================] - 13s 1s/step - loss: 6.0722e-07 - accuracy: 1.0000\n",
            "Epoch 15/20\n",
            "11/11 [==============================] - 14s 1s/step - loss: 1.0643e-06 - accuracy: 1.0000\n",
            "Epoch 16/20\n",
            "11/11 [==============================] - 14s 1s/step - loss: 2.5326e-06 - accuracy: 1.0000\n",
            "Epoch 17/20\n",
            "11/11 [==============================] - 14s 1s/step - loss: 6.8065e-07 - accuracy: 1.0000\n",
            "Epoch 18/20\n",
            "11/11 [==============================] - 14s 1s/step - loss: 6.0412e-06 - accuracy: 1.0000\n",
            "Epoch 19/20\n",
            "11/11 [==============================] - 14s 1s/step - loss: 8.5623e-06 - accuracy: 1.0000\n",
            "Epoch 20/20\n",
            "11/11 [==============================] - 13s 1s/step - loss: 5.6021e-06 - accuracy: 1.0000\n"
          ]
        },
        {
          "output_type": "execute_result",
          "data": {
            "text/plain": [
              "<keras.src.callbacks.History at 0x7e21d46579a0>"
            ]
          },
          "metadata": {},
          "execution_count": 37
        }
      ]
    },
    {
      "cell_type": "code",
      "source": [
        "model.save('skin_disease_detection_model.keras')"
      ],
      "metadata": {
        "id": "MeF0l82NQc6L"
      },
      "execution_count": null,
      "outputs": []
    }
  ]
}